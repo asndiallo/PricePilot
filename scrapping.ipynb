{
 "cells": [
  {
   "cell_type": "markdown",
   "metadata": {
    "id": "qWUK25s9YosK"
   },
   "source": [
    "\n",
    "\n",
    "[lacentrale](https://www.lacentrale.fr/listing)\n",
    "\n"
   ]
  },
  {
   "cell_type": "markdown",
   "metadata": {
    "id": "T5kwWF7QiXLH"
   },
   "source": [
    "# Les voitures selon [lacentrale.fr](https://www.lacentrale.fr/listing)\n",
    "\n",
    "<img src= ''>\n",
    "\n",
    "L'objectif de ce projet est de collecter les données des voitures présents sur la page `https://www.lacentrale.fr/listing` du site lacentrale.fr.\n",
    "\n",
    "Les données que nous collecterons seront les suivantes :\n",
    "name\n",
    "price\n",
    "year\n",
    "origin\n",
    "registration_date\n",
    "technical_inspection\n",
    "first_hand\n",
    "mileage\n",
    "fuel_type\n",
    "transmission\n",
    "num_doors\n",
    "num_seats\n",
    "power\n",
    "co2_emission\n",
    "length\n",
    "trunk_volume\n",
    "critair_rating\n",
    "combined_consumption"
   ]
  },
  {
   "cell_type": "code",
   "execution_count": 1,
   "metadata": {},
   "outputs": [
    {
     "name": "stdout",
     "output_type": "stream",
     "text": [
      "Requirement already satisfied: pip in c:\\users\\boufa\\anaconda3\\lib\\site-packages (23.2.1)\n",
      "Note: you may need to restart the kernel to use updated packages.\n"
     ]
    },
    {
     "name": "stderr",
     "output_type": "stream",
     "text": [
      "DEPRECATION: pyodbc 4.0.0-unsupported has a non-standard version number. pip 23.3 will enforce this behaviour change. A possible replacement is to upgrade to a newer version of pyodbc or contact the author to suggest that they release a version with a conforming version number. Discussion can be found at https://github.com/pypa/pip/issues/12063\n"
     ]
    }
   ],
   "source": [
    "pip install --upgrade pip"
   ]
  },
  {
   "cell_type": "code",
   "execution_count": 2,
   "metadata": {},
   "outputs": [
    {
     "name": "stdout",
     "output_type": "stream",
     "text": [
      "Requirement already satisfied: lxml in c:\\users\\boufa\\anaconda3\\lib\\site-packages (4.6.3)\n",
      "Note: you may need to restart the kernel to use updated packages.\n"
     ]
    },
    {
     "name": "stderr",
     "output_type": "stream",
     "text": [
      "DEPRECATION: pyodbc 4.0.0-unsupported has a non-standard version number. pip 23.3 will enforce this behaviour change. A possible replacement is to upgrade to a newer version of pyodbc or contact the author to suggest that they release a version with a conforming version number. Discussion can be found at https://github.com/pypa/pip/issues/12063\n"
     ]
    }
   ],
   "source": [
    "pip install lxml"
   ]
  },
  {
   "cell_type": "code",
   "execution_count": 3,
   "metadata": {},
   "outputs": [
    {
     "name": "stdout",
     "output_type": "stream",
     "text": [
      "Requirement already satisfied: selenium in c:\\users\\boufa\\anaconda3\\lib\\site-packages (4.13.0)Note: you may need to restart the kernel to use updated packages.\n"
     ]
    },
    {
     "name": "stderr",
     "output_type": "stream",
     "text": [
      "DEPRECATION: pyodbc 4.0.0-unsupported has a non-standard version number. pip 23.3 will enforce this behaviour change. A possible replacement is to upgrade to a newer version of pyodbc or contact the author to suggest that they release a version with a conforming version number. Discussion can be found at https://github.com/pypa/pip/issues/12063\n"
     ]
    },
    {
     "name": "stdout",
     "output_type": "stream",
     "text": [
      "\n",
      "Requirement already satisfied: urllib3[socks]<3,>=1.26 in c:\\users\\boufa\\anaconda3\\lib\\site-packages (from selenium) (1.26.7)\n",
      "Requirement already satisfied: trio~=0.17 in c:\\users\\boufa\\anaconda3\\lib\\site-packages (from selenium) (0.22.2)\n",
      "Requirement already satisfied: trio-websocket~=0.9 in c:\\users\\boufa\\anaconda3\\lib\\site-packages (from selenium) (0.11.1)\n",
      "Requirement already satisfied: certifi>=2021.10.8 in c:\\users\\boufa\\anaconda3\\lib\\site-packages (from selenium) (2021.10.8)\n",
      "Requirement already satisfied: attrs>=20.1.0 in c:\\users\\boufa\\anaconda3\\lib\\site-packages (from trio~=0.17->selenium) (21.2.0)\n",
      "Requirement already satisfied: sortedcontainers in c:\\users\\boufa\\anaconda3\\lib\\site-packages (from trio~=0.17->selenium) (2.4.0)\n",
      "Requirement already satisfied: idna in c:\\users\\boufa\\anaconda3\\lib\\site-packages (from trio~=0.17->selenium) (3.2)\n",
      "Requirement already satisfied: outcome in c:\\users\\boufa\\anaconda3\\lib\\site-packages (from trio~=0.17->selenium) (1.2.0)\n",
      "Requirement already satisfied: sniffio in c:\\users\\boufa\\anaconda3\\lib\\site-packages (from trio~=0.17->selenium) (1.2.0)\n",
      "Requirement already satisfied: cffi>=1.14 in c:\\users\\boufa\\anaconda3\\lib\\site-packages (from trio~=0.17->selenium) (1.14.6)\n",
      "Requirement already satisfied: exceptiongroup>=1.0.0rc9 in c:\\users\\boufa\\anaconda3\\lib\\site-packages (from trio~=0.17->selenium) (1.1.3)\n",
      "Requirement already satisfied: wsproto>=0.14 in c:\\users\\boufa\\anaconda3\\lib\\site-packages (from trio-websocket~=0.9->selenium) (1.2.0)\n",
      "Requirement already satisfied: PySocks!=1.5.7,<2.0,>=1.5.6 in c:\\users\\boufa\\anaconda3\\lib\\site-packages (from urllib3[socks]<3,>=1.26->selenium) (1.7.1)\n",
      "Requirement already satisfied: pycparser in c:\\users\\boufa\\anaconda3\\lib\\site-packages (from cffi>=1.14->trio~=0.17->selenium) (2.20)\n",
      "Requirement already satisfied: h11<1,>=0.9.0 in c:\\users\\boufa\\anaconda3\\lib\\site-packages (from wsproto>=0.14->trio-websocket~=0.9->selenium) (0.14.0)\n"
     ]
    }
   ],
   "source": [
    "pip install selenium"
   ]
  },
  {
   "cell_type": "code",
   "execution_count": 1,
   "metadata": {},
   "outputs": [],
   "source": [
    "\n",
    "# Le module selenium.webdriver fournit toutes les implémentations de WebDriver : Firefox, Chrome, Edge, ... (sont actuellement prises en charge). \n",
    "from selenium import webdriver\n",
    "from bs4 import BeautifulSoup\n",
    "import requests\n",
    "\n",
    "# La classe Keys fournit des touches dans le clavier telles que RETURN, F1, ALT, etc.\n",
    "from selenium.webdriver.common.keys import Keys\n",
    "# La classe ActionsChains permet la combinaison de touches, par ex 4 fois la touche Tab \n",
    "from selenium.webdriver.common.action_chains import ActionChains\n",
    "\n",
    "from selenium.webdriver.common.by import By\n",
    "\n",
    "from datetime import datetime\n",
    "import time\n",
    "import random\n",
    "\n",
    "import pandas as pd\n",
    "# import pytest"
   ]
  },
  {
   "cell_type": "markdown",
   "metadata": {},
   "source": [
    "# Lacentrale"
   ]
  },
  {
   "cell_type": "code",
   "execution_count": 2,
   "metadata": {},
   "outputs": [],
   "source": [
    "from lxml import etree\n",
    "def getLacentralePage(url, page = None):\n",
    "    if (page != None):\n",
    "        url = url + '?page=' + page\n",
    "    response = requests.get(url)\n",
    "    soup = BeautifulSoup(response.content, features='lxml')\n",
    "\n",
    "    return soup\n",
    "\n",
    "def getDetailsCar(carCard):\n",
    "    car = {\n",
    "        'name': None,\n",
    "        'price': None,\n",
    "        'year': None,\n",
    "        'origin': None,\n",
    "        'registration_date': None,\n",
    "        'technical_inspection': None,\n",
    "        'first_hand': None,\n",
    "        'mileage': None,\n",
    "        'fuel_type': None,\n",
    "        'transmission': None,\n",
    "        'num_doors': None,\n",
    "        'num_seats': None,\n",
    "        'power': None,\n",
    "        'co2_emission': None\n",
    "        'length' : None\n",
    "        'trunk_volume': None\n",
    "        'critair_rating': None\n",
    "        'combined_consumption':None\n",
    "    }\n",
    "\n",
    "    dom = etree.HTML (str(carCard))\n",
    "\n",
    "\n",
    "    if (carCard.find('div',class_=\"Text_Text_text SummaryInformation_title__5CYhW Text_Text_headline3\") != None):\n",
    "        car[''] = carCard.find('div',class_=\"Text_Text_text SummaryInformation_title__5CYhW Text_Text_headline3\").text.strip()\n",
    "\n",
    "    if (carCard.find('span',class_=\"PriceInformation_classifiedPrice__b-Jae\") != None):\n",
    "        car['prix'] = carCard.find('span',class_=\"PriceInformation_classifiedPrice__b-Jae\").text.strip()\n",
    "\n",
    "    if (len(dom.xpath('//*[@id=\"year\"]/span[2]/span')) > 0):\n",
    "        car['year'] = dom.xpath('//*[@id=\"year\"]/span[2]/span')[0].text.strip()\n",
    "\n",
    "    if (len(dom.xpath('//*[@id=\"origin\"]/span[2]/span[1]')) > 0):\n",
    "        car['origin'] = dom.xpath('//*[@id=\"origin\"]/span[2]/span[1]')[0].text.strip()\n",
    "\n",
    "    if (len(dom.xpath('//*[@id=\"firstCirculationDate\"]/span[2]/span')) > 0):\n",
    "        car['registration_date'] = dom.xpath('//*[@id=\"firstCirculationDate\"]/span[2]/span')[0].text.strip()\n",
    "\n",
    "    if (len(dom.xpath('//*[@id=\"technicalControl\"]/span[2]/span[1]')) > 0):\n",
    "        car['technical_inspection'] = dom.xpath('//*[@id=\"technicalControl\"]/span[2]/span[1]')[0].text.strip()\n",
    "\n",
    "    if (len(dom.xpath('//*[@id=\"firstHand\"]/span[2]/span[1]')) > 0):\n",
    "        car['first_hand'] = dom.xpath('//*[@id=\"firstHand\"]/span[2]/span[1]')[0].text.strip()\n",
    "\n",
    "    if (len(dom.xpath('//*[@id=\"mileage\"]/span[2]/span[1]')) > 0):\n",
    "        car['mileage'] = dom.xpath('//*[@id=\"mileage\"]/span[2]/span[1]')[0].text.strip()\n",
    "\n",
    "    if (len(dom.xpath('//*[@id=\"energy\"]/span[2]/span')) > 0):\n",
    "        car['fuel_type'] = dom.xpath('//*[@id=\"energy\"]/span[2]/span')[0].text.strip()\n",
    "\n",
    "    if (len(dom.xpath('//*[@id=\"gearbox\"]/span[2]/span')) > 0):\n",
    "        car['transmission'] = dom.xpath('//*[@id=\"gearbox\"]/span[2]/span')[0].text.strip()\n",
    "\n",
    "    if (len(dom.xpath('//*[@id=\"doors\"]/span[2]/span')) > 0):\n",
    "        car['num_doors'] = dom.xpath('//*[@id=\"doors\"]/span[2]/span')[0].text.strip()\n",
    "    if (len(dom.xpath('//*[@id=\"seats\"]/span[2]/span')) > 0):\n",
    "        car[' num_seats'] = dom.xpath('//*[@id=\"seats\"]/span[2]/span')[0].text.strip()\n",
    "   \n",
    "    if (len(dom.xpath('//*[@id=\"ratedHorsePower\"]/span[2]/span[1]')) > 0):\n",
    "        car['power'] = dom.xpath('//*[@id=\"ratedHorsePower\"]/span[2]/span[1]')[0].text.strip()\n",
    "\n",
    "    if (len(dom.xpath('//*[@id=\"co2\"]/span[2]/div/div/div')) > 0):\n",
    "        car['emission_CO2'] = dom.xpath('//*[@id=\"co2\"]/span[2]/div/div/div')[0].text.strip()\n",
    "\n",
    "    if (len(dom.xpath('//*[@id=\"length\"]/span[2]/span')) > 0):\n",
    "        car['length'] = dom.xpath('//*[@id=\"length\"]/span[2]/span')[0].text.strip()\n",
    "    \n",
    "    if (len(dom.xpath('//*[@id=\"general-information\"]/div/div[2]/div/div[2]/div[1]/section/ul/li[14]/div/button/span')) > 0):\n",
    "        car['trunk_volume'] = dom.xpath('//*[@id=\"general-information\"]/div/div[2]/div/div[2]/div[1]/section/ul/li[14]/div/button/span')[0].text.strip()\n",
    "   \n",
    "    if (len(dom.xpath('//*[@id=\"critAir\"]/span[2]/span[1]/span[1]')) > 0):\n",
    "        car['critair_rating'] = dom.xpath('//*[@id=\"critAir\"]/span[2]/span[1]/span[1]')[0].text.strip()\n",
    "\n",
    "    if (len(dom.xpath('//*[@id=\"consumption\"]/span[2]')) > 0):\n",
    "        car['combined_consumption'] = dom.xpath('//*[@id=\"consumption\"]/span[2]')[0].text.strip()    \n",
    "        \n",
    "    return car\n",
    "    \n",
    "def getLacentraleCars(soup):\n",
    "    # Cette fonction est à lancer sur la page avec les voitures à récupérer\n",
    "    # on récupère toutes les voiture\n",
    "    # chaque voiture est contenu dans une div avec une classe spécifique\n",
    "    \n",
    "    cars = soup.find_all('div', class_=['searchCardContainer', 'boostVo__container'])\n",
    "    \n",
    "    data = []\n",
    "    \n",
    "    # Pour chaque voiture on récupère les détails qui nous intéressent\n",
    "    #print(cars)\n",
    "    for car in cars:\n",
    "        a = 'https://www.lacentrale.fr/' + car.find('a',class_='Vehiculecard_Vehiculecard_vehiculeCard')['href']\n",
    "        #print(a)\n",
    "        page = getLacentralePage(a)\n",
    "        data.append(getDetailsCar(page))\n",
    "    \n",
    "    return data\n",
    "\n"
   ]
  },
  {
   "cell_type": "code",
   "execution_count": null,
   "metadata": {
    "scrolled": true
   },
   "outputs": [],
   "source": [
    "# L'URL DU SITE A SCRAPPER\n",
    "url = \"https://www.lacentrale.fr/listing\"\n",
    "\n",
    "# notre liste de voitures\n",
    "cars = []\n",
    "\n",
    "# on récupère notre page\n",
    "homePage = getLacentralePage(url)\n",
    "maxPage = 300\n",
    "\n",
    "# on récupère les voitures de toutes les pages\n",
    "\n",
    "for currentPage in range(1, maxPage+1):\n",
    "    try:\n",
    "        print(currentPage)\n",
    "        page = getLacentralePage(url, str(currentPage))\n",
    "        data = getLacentraleCars(page)\n",
    "        [cars.append(car) for car in data]\n",
    "    except Exception as e:\n",
    "        print(e)\n",
    "        pass\n",
    "df = pd.DataFrame(cars)\n",
    "df"
   ]
  },
  {
   "cell_type": "code",
   "execution_count": null,
   "metadata": {},
   "outputs": [],
   "source": []
  },
  {
   "cell_type": "code",
   "execution_count": null,
   "metadata": {},
   "outputs": [],
   "source": []
  },
  {
   "cell_type": "code",
   "execution_count": null,
   "metadata": {},
   "outputs": [],
   "source": []
  }
 ],
 "metadata": {
  "colab": {
   "collapsed_sections": [],
   "provenance": []
  },
  "kernelspec": {
   "display_name": "Python 3 (ipykernel)",
   "language": "python",
   "name": "python3"
  },
  "language_info": {
   "codemirror_mode": {
    "name": "ipython",
    "version": 3
   },
   "file_extension": ".py",
   "mimetype": "text/x-python",
   "name": "python",
   "nbconvert_exporter": "python",
   "pygments_lexer": "ipython3",
   "version": "3.9.7"
  },
  "vscode": {
   "interpreter": {
    "hash": "14df7d9968fa27c77dbf220be04c53ee443c1fd942db5b5a06ac41086cc2939c"
   }
  }
 },
 "nbformat": 4,
 "nbformat_minor": 1
}
